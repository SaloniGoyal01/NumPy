{
 "cells": [
  {
   "cell_type": "code",
   "execution_count": 12,
   "id": "181e6d69",
   "metadata": {},
   "outputs": [],
   "source": [
    "import numpy as np\n",
    "# import matplotlib.pyplot as plt"
   ]
  },
  {
   "cell_type": "code",
   "execution_count": null,
   "id": "2c110127",
   "metadata": {},
   "outputs": [],
   "source": [
    "array1 = np.array([[1,2,3],[4,5,6]])    # Create a 2D numpy array\n",
    "array2 = np.random.random((3,3))        # Create a 3x3 numpy array with random float values between 0 and 1"
   ]
  },
  {
   "cell_type": "code",
   "execution_count": 16,
   "id": "58f3f31f",
   "metadata": {},
   "outputs": [],
   "source": [
    "#  np.save() is used to save a NumPy array to a file on disk, so that you can reuse or reload it later without regenerating or recalculating the data.\n",
    "\n",
    "np.save('array1.npy', array1)    # Save array1 to a binary .npy file\n",
    "np.save('array2.npy', array2)    # Save array2 to a binary .npy file"
   ]
  },
  {
   "cell_type": "code",
   "execution_count": 18,
   "id": "29ab7a94",
   "metadata": {},
   "outputs": [
    {
     "name": "stdout",
     "output_type": "stream",
     "text": [
      "[[1 2 3]\n",
      " [4 5 6]]\n",
      "[[0.72679049 0.27714165 0.68334995]\n",
      " [0.06573    0.26156655 0.32785216]\n",
      " [0.26507003 0.02510452 0.03872655]]\n"
     ]
    }
   ],
   "source": [
    "#  np.load() is used to load (read) a saved NumPy array from a .npy or .npz file back into memory.\n",
    "# Suppose you saved a large array using np.save(). Instead of recreating the data every time, you can quickly load it with np.load().\n",
    "# Saves time & computation.\n",
    "\n",
    "loaded_array1 = np.load('array1.npy')     # Load the saved array1 from the .npy file\n",
    "print(loaded_array1)\n",
    "\n",
    "loaded_array2 = np.load('array2.npy')     # Load the saved array2 from the .npy file\n",
    "print(loaded_array2)"
   ]
  }
 ],
 "metadata": {
  "kernelspec": {
   "display_name": "env",
   "language": "python",
   "name": "python3"
  },
  "language_info": {
   "codemirror_mode": {
    "name": "ipython",
    "version": 3
   },
   "file_extension": ".py",
   "mimetype": "text/x-python",
   "name": "python",
   "nbconvert_exporter": "python",
   "pygments_lexer": "ipython3",
   "version": "3.10.0"
  }
 },
 "nbformat": 4,
 "nbformat_minor": 5
}
