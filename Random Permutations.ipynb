{
 "cells": [
  {
   "cell_type": "markdown",
   "id": "164d907b",
   "metadata": {},
   "source": [
    "# Random Permutations of Elements\n",
    "\n",
    "####  A permutation refers to an arrangement of elements. e.g. [3, 2, 1] is a permutation of [1, 2, 3] and vice-versa.\n",
    "####  The NumPy Random module provides two methods for this: shuffle() and permutation()"
   ]
  },
  {
   "cell_type": "markdown",
   "id": "c8001f0a",
   "metadata": {},
   "source": [
    "#  Shuffling Arrays\n",
    "##### Shuffling means randomly changing the order of elements in the same array itself — i.e. the original array is modified directly (in-place)"
   ]
  },
  {
   "cell_type": "code",
   "execution_count": 8,
   "id": "2c429300",
   "metadata": {},
   "outputs": [
    {
     "name": "stdout",
     "output_type": "stream",
     "text": [
      "[3 2 4 1 5]\n"
     ]
    }
   ],
   "source": [
    "from numpy import random\n",
    "import numpy as np\n",
    "\n",
    "#  Randomly shuffle elements of following array:\n",
    "\n",
    "arr = np.array([1,2,3,4,5])\n",
    "random.shuffle(arr)\n",
    "print(arr)"
   ]
  },
  {
   "cell_type": "markdown",
   "id": "192b52ef",
   "metadata": {},
   "source": [
    "###  Generating Permutation of Arrays"
   ]
  },
  {
   "cell_type": "code",
   "execution_count": 13,
   "id": "9eb24707",
   "metadata": {},
   "outputs": [
    {
     "name": "stdout",
     "output_type": "stream",
     "text": [
      "[5 2 1 3 4]\n"
     ]
    }
   ],
   "source": [
    "#  Generate a random permutation of elements of following array:\n",
    "\n",
    "arr = np.array([1,2,3,4,5])\n",
    "print(random.permutation(arr))"
   ]
  }
 ],
 "metadata": {
  "kernelspec": {
   "display_name": "env",
   "language": "python",
   "name": "python3"
  },
  "language_info": {
   "codemirror_mode": {
    "name": "ipython",
    "version": 3
   },
   "file_extension": ".py",
   "mimetype": "text/x-python",
   "name": "python",
   "nbconvert_exporter": "python",
   "pygments_lexer": "ipython3",
   "version": "3.10.0"
  }
 },
 "nbformat": 4,
 "nbformat_minor": 5
}
