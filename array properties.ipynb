{
 "cells": [
  {
   "cell_type": "code",
   "execution_count": 3,
   "id": "ec44ab8c",
   "metadata": {},
   "outputs": [
    {
     "name": "stdout",
     "output_type": "stream",
     "text": [
      "Shape : (2, 3)\n",
      "Dimension : 2\n",
      "Size : 6\n",
      "DType : int64\n"
     ]
    }
   ],
   "source": [
    "import numpy as np\n",
    "arr = np.array([[10,20,30],\n",
    "                [40,50,60]])             # Creating a 2D NumPy array (2 rows, 3 columns)\n",
    "print(\"Shape :\", arr.shape)              # Shape shows the number of rows and columns\n",
    "print(\"Dimension :\", arr.ndim)           # ndim tells us if the array is 1D, 2D, 3D, etc\n",
    "print(\"Size :\", arr.size)                # Size is simply the count of all elements in the array (2*3=6)\n",
    "print(\"DType :\", arr.dtype)              # dtype shows the data type of each element in the array"
   ]
  },
  {
   "cell_type": "markdown",
   "id": "849001ed",
   "metadata": {},
   "source": [
    "Array Reshaping"
   ]
  },
  {
   "cell_type": "code",
   "execution_count": null,
   "id": "cdd21809",
   "metadata": {},
   "outputs": [
    {
     "name": "stdout",
     "output_type": "stream",
     "text": [
      "Original array  [ 0  1  2  3  4  5  6  7  8  9 10 11]\n",
      "Reshaped array \n",
      " [[ 0  1  2  3]\n",
      " [ 4  5  6  7]\n",
      " [ 8  9 10 11]]\n",
      "flattened array  [ 0  1  2  3  4  5  6  7  8  9 10 11]\n",
      "raveled array  [ 0  1  2  3  4  5  6  7  8  9 10 11]\n",
      "transposed array \n",
      " [[ 0  4  8]\n",
      " [ 1  5  9]\n",
      " [ 2  6 10]\n",
      " [ 3  7 11]]\n"
     ]
    }
   ],
   "source": [
    "arr = np.arange(12)      # Create a 1D array with values from 0 to 11 (12 elements)\n",
    "print(\"Original array \", arr)\n",
    "\n",
    "reshaped = arr.reshape((3,4))       # Reshape the 1D array into a 3x4 2D array\n",
    "print(\"Reshaped array \\n\", reshaped)\n",
    "\n",
    "# Meaning of Flatten in NumPy\n",
    "# Flattening means converting a multi-dimensional array into a 1D array.\n",
    "# It collapses all dimensions into a single linear sequence.\n",
    "\n",
    "flattened = reshaped.flatten()        # Flatten the 2D array back to 1D array\n",
    "print(\"flattened array \", flattened)\n",
    "\n",
    "\n",
    "# ravel() converts a multi-dimensional array to 1D, just like flatten(), but:\n",
    "# ravel() returns a view of the original array when possible (no data copying).\n",
    "# flatten() always returns a copy.\n",
    "\n",
    "raveled = reshaped.ravel()\n",
    "print(\"raveled array \", raveled)\n",
    "\n",
    "transpose = reshaped.T        #  .T returns the transpose of the array, i.e., it swaps rows and columns.\n",
    "print(\"transposed array \\n\", transpose)"
   ]
  }
 ],
 "metadata": {
  "kernelspec": {
   "display_name": "env",
   "language": "python",
   "name": "python3"
  },
  "language_info": {
   "codemirror_mode": {
    "name": "ipython",
    "version": 3
   },
   "file_extension": ".py",
   "mimetype": "text/x-python",
   "name": "python",
   "nbconvert_exporter": "python",
   "pygments_lexer": "ipython3",
   "version": "3.10.0"
  }
 },
 "nbformat": 4,
 "nbformat_minor": 5
}
