{
 "cells": [
  {
   "cell_type": "markdown",
   "id": "3da655cc",
   "metadata": {},
   "source": [
    "##  NumPy Set Operations\n",
    "####    A set in mathematics is a collection of unique elements.      Sets are used for operations involving frequent intersection, union and difference operations."
   ]
  },
  {
   "cell_type": "markdown",
   "id": "c7605b4d",
   "metadata": {},
   "source": [
    "## Create Sets in NumPy\n",
    "#### We can use NumPy's unique() method to find unique elements from any array. E.g. create a set array, but remember that the set arrays should only be 1-D arrays."
   ]
  },
  {
   "cell_type": "code",
   "execution_count": 1,
   "id": "f949d6f3",
   "metadata": {},
   "outputs": [
    {
     "name": "stdout",
     "output_type": "stream",
     "text": [
      "[1 2 3 4 5 6 7]\n"
     ]
    }
   ],
   "source": [
    "import numpy as np\n",
    "\n",
    "#  Convert following array with repeated elements to a set:\n",
    "\n",
    "arr = np.array([1, 1, 1, 2, 3, 4, 5, 5, 6, 7])\n",
    "x = np.unique(arr)\n",
    "print(x)"
   ]
  },
  {
   "cell_type": "markdown",
   "id": "345d6487",
   "metadata": {},
   "source": [
    "##  Finding Union\n",
    "####  To find the unique values of two arrays, use the union1d() method\n",
    "\n"
   ]
  },
  {
   "cell_type": "code",
   "execution_count": 2,
   "id": "b77efeda",
   "metadata": {},
   "outputs": [
    {
     "name": "stdout",
     "output_type": "stream",
     "text": [
      "[1 2 3 4 5 6]\n"
     ]
    }
   ],
   "source": [
    "#   Find union of the following two set arrays:\n",
    "\n",
    "arr1 = np.array([1, 2, 3, 4])\n",
    "arr2 = np.array([3, 4, 5, 6])\n",
    "newarr = np.union1d(arr1, arr2)\n",
    "print(newarr)"
   ]
  },
  {
   "cell_type": "markdown",
   "id": "e88263bb",
   "metadata": {},
   "source": [
    "## Finding Intersection"
   ]
  },
  {
   "cell_type": "markdown",
   "id": "e5e54a27",
   "metadata": {},
   "source": [
    "#### To find only the values that are present in both arrays, use the intersect1d() method."
   ]
  },
  {
   "cell_type": "code",
   "execution_count": 3,
   "id": "36c7a7b0",
   "metadata": {},
   "outputs": [
    {
     "name": "stdout",
     "output_type": "stream",
     "text": [
      "[3 4]\n"
     ]
    }
   ],
   "source": [
    "arr1 = np.array([1, 2, 3, 4])\n",
    "arr2 = np.array([3, 4, 5, 6])\n",
    "newarr = np.intersect1d(arr1, arr2)\n",
    "print(newarr)"
   ]
  },
  {
   "cell_type": "markdown",
   "id": "3bf18e91",
   "metadata": {},
   "source": [
    "## Finding Difference"
   ]
  },
  {
   "cell_type": "markdown",
   "id": "39bec7e9",
   "metadata": {},
   "source": [
    "####  To find only the values in the first set that is NOT present in the seconds set, use the setdiff1d() method."
   ]
  },
  {
   "cell_type": "code",
   "execution_count": 6,
   "id": "eac6364e",
   "metadata": {},
   "outputs": [
    {
     "name": "stdout",
     "output_type": "stream",
     "text": [
      "[1 2]\n"
     ]
    }
   ],
   "source": [
    "arr1 = np.array([1, 2, 3, 4])\n",
    "arr2 = np.array([3, 4, 5, 6])\n",
    "newarr = np.setdiff1d(arr1, arr2)\n",
    "print(newarr)"
   ]
  },
  {
   "cell_type": "markdown",
   "id": "0cfabd55",
   "metadata": {},
   "source": [
    "##  Finding Symmetric Difference"
   ]
  },
  {
   "cell_type": "markdown",
   "id": "12203d05",
   "metadata": {},
   "source": [
    "#### To find only the values that are NOT present in BOTH sets, use the setxor1d() method."
   ]
  },
  {
   "cell_type": "code",
   "execution_count": 5,
   "id": "dc5bbce0",
   "metadata": {},
   "outputs": [
    {
     "name": "stdout",
     "output_type": "stream",
     "text": [
      "[1 2 5 6]\n"
     ]
    }
   ],
   "source": [
    "arr1 = np.array([1, 2, 3, 4])\n",
    "arr2 = np.array([3, 4, 5, 6])\n",
    "newarr = np.setxor1d(arr1, arr2)\n",
    "print(newarr)"
   ]
  }
 ],
 "metadata": {
  "kernelspec": {
   "display_name": "Python 3",
   "language": "python",
   "name": "python3"
  },
  "language_info": {
   "codemirror_mode": {
    "name": "ipython",
    "version": 3
   },
   "file_extension": ".py",
   "mimetype": "text/x-python",
   "name": "python",
   "nbconvert_exporter": "python",
   "pygments_lexer": "ipython3",
   "version": "3.10.0"
  }
 },
 "nbformat": 4,
 "nbformat_minor": 5
}
