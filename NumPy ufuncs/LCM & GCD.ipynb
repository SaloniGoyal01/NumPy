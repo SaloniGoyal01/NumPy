{
 "cells": [
  {
   "cell_type": "markdown",
   "id": "f2a855e6",
   "metadata": {},
   "source": [
    "# LCM Lowest Common Multiple"
   ]
  },
  {
   "cell_type": "markdown",
   "id": "1db577dd",
   "metadata": {},
   "source": [
    "#### Finding LCM (Lowest Common Multiple)\n",
    "##### The Lowest Common Multiple is the smallest number that is a common multiple of two numbers."
   ]
  },
  {
   "cell_type": "code",
   "execution_count": 2,
   "id": "52bfac13",
   "metadata": {},
   "outputs": [
    {
     "name": "stdout",
     "output_type": "stream",
     "text": [
      "12\n"
     ]
    }
   ],
   "source": [
    "import numpy as np\n",
    "\n",
    "num1 = 4\n",
    "num2 = 6\n",
    "x = np.lcm(num1, num2)\n",
    "print(x)"
   ]
  },
  {
   "cell_type": "markdown",
   "id": "1474667f",
   "metadata": {},
   "source": [
    "### Finding LCM in Arrays\n"
   ]
  },
  {
   "cell_type": "markdown",
   "id": "68630344",
   "metadata": {},
   "source": [
    "#### To find the Lowest Common Multiple of all values in an array, use the reduce() method."
   ]
  },
  {
   "cell_type": "code",
   "execution_count": 7,
   "id": "89689ada",
   "metadata": {},
   "outputs": [
    {
     "name": "stdout",
     "output_type": "stream",
     "text": [
      "24\n"
     ]
    }
   ],
   "source": [
    "#  Finding LCM in Arrays\n",
    "\n",
    "arr = np.array([3,6,8])\n",
    "x = np.lcm.reduce(arr)\n",
    "print(x)"
   ]
  },
  {
   "cell_type": "code",
   "execution_count": 8,
   "id": "0d439ec5",
   "metadata": {},
   "outputs": [
    {
     "name": "stdout",
     "output_type": "stream",
     "text": [
      "2520\n"
     ]
    }
   ],
   "source": [
    "#   Find the LCM of all values of an array where the array contains all integers from 1 to 10:\n",
    "\n",
    "arr = np.arange(1, 11)\n",
    "x = np.lcm.reduce(arr)\n",
    "print(x)"
   ]
  },
  {
   "cell_type": "markdown",
   "id": "0bf13f4c",
   "metadata": {},
   "source": [
    "# GCD Greatest Common Devisor"
   ]
  },
  {
   "cell_type": "markdown",
   "id": "8f92d3c6",
   "metadata": {},
   "source": [
    "#### Finding GCD (Greatest Common Devisor)\n",
    "##### The GCD (Greatest Common Devisor), also known as HCF (Highest Common Factor) is the biggest number that is a common factor of both of the numbers."
   ]
  },
  {
   "cell_type": "code",
   "execution_count": 9,
   "id": "5bb7df5f",
   "metadata": {},
   "outputs": [
    {
     "name": "stdout",
     "output_type": "stream",
     "text": [
      "[3]\n"
     ]
    }
   ],
   "source": [
    "num1 = 6,\n",
    "num2 = 9\n",
    "x = np.gcd(num1, num2)\n",
    "print(x)"
   ]
  },
  {
   "cell_type": "markdown",
   "id": "5631f0d6",
   "metadata": {},
   "source": [
    "### Finding GCD in Arrays\n",
    "##### To find the Highest Common Factor of all values in an array, you can use the reduce() method."
   ]
  },
  {
   "cell_type": "code",
   "execution_count": 10,
   "id": "1c107dc9",
   "metadata": {},
   "outputs": [
    {
     "name": "stdout",
     "output_type": "stream",
     "text": [
      "4\n"
     ]
    }
   ],
   "source": [
    "arr = np.array([20, 8, 32, 36, 16])\n",
    "x = np.gcd.reduce(arr)\n",
    "print(x)"
   ]
  }
 ],
 "metadata": {
  "kernelspec": {
   "display_name": "env",
   "language": "python",
   "name": "python3"
  },
  "language_info": {
   "codemirror_mode": {
    "name": "ipython",
    "version": 3
   },
   "file_extension": ".py",
   "mimetype": "text/x-python",
   "name": "python",
   "nbconvert_exporter": "python",
   "pygments_lexer": "ipython3",
   "version": "3.10.0"
  }
 },
 "nbformat": 4,
 "nbformat_minor": 5
}
