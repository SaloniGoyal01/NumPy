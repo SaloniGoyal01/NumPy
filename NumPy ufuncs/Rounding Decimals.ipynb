{
 "cells": [
  {
   "cell_type": "markdown",
   "id": "27f138e2",
   "metadata": {},
   "source": [
    "## Rounding Decimals\n",
    "### There are primarily five ways of rounding off decimals in NumPy:\n",
    "### truncation, fix, rounding, floor, ceil"
   ]
  },
  {
   "cell_type": "markdown",
   "id": "4b1f1763",
   "metadata": {},
   "source": [
    "# Truncation"
   ]
  },
  {
   "cell_type": "code",
   "execution_count": 3,
   "id": "f8a19920",
   "metadata": {},
   "outputs": [
    {
     "name": "stdout",
     "output_type": "stream",
     "text": [
      "[ 2. -1.]\n"
     ]
    }
   ],
   "source": [
    "import numpy as np\n",
    "\n",
    "arr = np.trunc([2.1356, -1.9876])\n",
    "print(arr)"
   ]
  },
  {
   "cell_type": "markdown",
   "id": "2adb10a3",
   "metadata": {},
   "source": [
    "# Fix"
   ]
  },
  {
   "cell_type": "code",
   "execution_count": 16,
   "id": "cd5b24f9",
   "metadata": {},
   "outputs": [
    {
     "name": "stdout",
     "output_type": "stream",
     "text": [
      "[ 2. -1.]\n"
     ]
    }
   ],
   "source": [
    "arr = np.fix([2.1356, -1.9876])\n",
    "print(arr)"
   ]
  },
  {
   "cell_type": "markdown",
   "id": "bcf61fd8",
   "metadata": {},
   "source": [
    "# Rounding"
   ]
  },
  {
   "cell_type": "code",
   "execution_count": 17,
   "id": "693ceeeb",
   "metadata": {},
   "outputs": [
    {
     "name": "stdout",
     "output_type": "stream",
     "text": [
      "3.17\n"
     ]
    }
   ],
   "source": [
    "# Round off 3.1666 to 2 decimal places:\n",
    "\n",
    "arr = np.around(3.1666, 2)\n",
    "print(arr)"
   ]
  },
  {
   "cell_type": "markdown",
   "id": "90adce83",
   "metadata": {},
   "source": [
    "# Floor"
   ]
  },
  {
   "cell_type": "code",
   "execution_count": 18,
   "id": "27dcb090",
   "metadata": {},
   "outputs": [
    {
     "name": "stdout",
     "output_type": "stream",
     "text": [
      "[-4.  3.]\n"
     ]
    }
   ],
   "source": [
    "arr = np.floor([-3.8, 3.8])\n",
    "print(arr)"
   ]
  },
  {
   "cell_type": "markdown",
   "id": "fb447134",
   "metadata": {},
   "source": [
    "# Ceil"
   ]
  },
  {
   "cell_type": "code",
   "execution_count": 19,
   "id": "d5af461a",
   "metadata": {},
   "outputs": [
    {
     "name": "stdout",
     "output_type": "stream",
     "text": [
      "[-4.  5.]\n"
     ]
    }
   ],
   "source": [
    "arr = np.ceil([-4.2, 4.2])\n",
    "print(arr)"
   ]
  }
 ],
 "metadata": {
  "kernelspec": {
   "display_name": "env",
   "language": "python",
   "name": "python3"
  },
  "language_info": {
   "codemirror_mode": {
    "name": "ipython",
    "version": 3
   },
   "file_extension": ".py",
   "mimetype": "text/x-python",
   "name": "python",
   "nbconvert_exporter": "python",
   "pygments_lexer": "ipython3",
   "version": "3.10.0"
  }
 },
 "nbformat": 4,
 "nbformat_minor": 5
}
