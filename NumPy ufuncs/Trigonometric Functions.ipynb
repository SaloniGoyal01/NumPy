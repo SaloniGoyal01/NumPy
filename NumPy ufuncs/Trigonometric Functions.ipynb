{
 "cells": [
  {
   "cell_type": "markdown",
   "id": "3a680380",
   "metadata": {},
   "source": [
    "NumPy provides trigonometric functions as ufuncs that:\n",
    "\n",
    "Take input in radians.\n",
    "Return the corresponding sine, cosine, or tangent values."
   ]
  },
  {
   "cell_type": "code",
   "execution_count": 2,
   "id": "8a84f840",
   "metadata": {},
   "outputs": [
    {
     "name": "stdout",
     "output_type": "stream",
     "text": [
      "1.0\n"
     ]
    }
   ],
   "source": [
    "import numpy as np\n",
    "\n",
    "# Find sine value of PI/2:\n",
    "\n",
    "x = np.sin(np.pi/2)\n",
    "print(x)"
   ]
  },
  {
   "cell_type": "code",
   "execution_count": 3,
   "id": "3a9ef56d",
   "metadata": {},
   "outputs": [
    {
     "name": "stdout",
     "output_type": "stream",
     "text": [
      "[[1.         0.8660254  0.70710678 0.58778525]]\n"
     ]
    }
   ],
   "source": [
    "# Find sine values for all of the values in arr:  [np.pi/2, np.pi/3, np.pi/4, np.pi/5]\n",
    "\n",
    "x = np.sin([[np.pi/2, np.pi/3, np.pi/4, np.pi/5]])\n",
    "print(x)"
   ]
  },
  {
   "cell_type": "markdown",
   "id": "d5cadfae",
   "metadata": {},
   "source": [
    "### Convert Degrees Into Radians"
   ]
  },
  {
   "cell_type": "code",
   "execution_count": 6,
   "id": "ab72c9f2",
   "metadata": {},
   "outputs": [
    {
     "name": "stdout",
     "output_type": "stream",
     "text": [
      "[1.57079633 3.14159265 0.78539816 0.52359878]\n"
     ]
    }
   ],
   "source": [
    "# Formula to convert degrees to radians:\n",
    "# radians = degrees × (𝜋/180)\n",
    "\n",
    "arr = np.array([90, 180, 45, 30])\n",
    "x = np.deg2rad(arr)\n",
    "print(x)"
   ]
  },
  {
   "cell_type": "markdown",
   "id": "725cfbe2",
   "metadata": {},
   "source": [
    "###  Radians to Degrees"
   ]
  },
  {
   "cell_type": "code",
   "execution_count": 7,
   "id": "1f368d4d",
   "metadata": {},
   "outputs": [
    {
     "name": "stdout",
     "output_type": "stream",
     "text": [
      "[ 90. 180. 270. 360.]\n"
     ]
    }
   ],
   "source": [
    "arr = np.array([np.pi/2, np.pi, 1.5*np.pi, 2*np.pi])\n",
    "x = np.rad2deg(arr)\n",
    "print(x)"
   ]
  },
  {
   "cell_type": "markdown",
   "id": "f6eff6c3",
   "metadata": {},
   "source": [
    "###  Finding Angles"
   ]
  },
  {
   "cell_type": "code",
   "execution_count": null,
   "id": "3433601c",
   "metadata": {},
   "outputs": [],
   "source": [
    "# Finding angles from values of sine, cos, tan. E.g. sin, cos and tan inverse (arcsin, arccos, arctan).\n",
    "# NumPy provides ufuncs arcsin(), arccos() and arctan() that produce radian values for corresponding sin, cos and tan values given."
   ]
  },
  {
   "cell_type": "code",
   "execution_count": 8,
   "id": "dc4a31a9",
   "metadata": {},
   "outputs": [
    {
     "name": "stdout",
     "output_type": "stream",
     "text": [
      "1.5707963267948966\n"
     ]
    }
   ],
   "source": [
    "x = np.arcsin(1.0)\n",
    "print(x)"
   ]
  },
  {
   "cell_type": "markdown",
   "id": "8d816d12",
   "metadata": {},
   "source": [
    "###  Angles of Each Value in Arrays"
   ]
  },
  {
   "cell_type": "code",
   "execution_count": 10,
   "id": "a0aa4aff",
   "metadata": {},
   "outputs": [
    {
     "name": "stdout",
     "output_type": "stream",
     "text": [
      "[ 1.57079633 -1.57079633  0.10016742]\n"
     ]
    }
   ],
   "source": [
    "# Find the angle for all of the sine values in the array :- [1, -1, 0.1]\n",
    "\n",
    "arr = np.array([1, -1, 0.1])\n",
    "x = np.arcsin(arr)\n",
    "print(x)"
   ]
  },
  {
   "cell_type": "markdown",
   "id": "4bba49a5",
   "metadata": {},
   "source": [
    "###  Hypotenues"
   ]
  },
  {
   "cell_type": "code",
   "execution_count": null,
   "id": "e979c505",
   "metadata": {},
   "outputs": [],
   "source": [
    "# Finding hypotenues using pythagoras theorem in NumPy.\n",
    "# NumPy provides the hypot() function that takes the base and perpendicular values and produces hypotenues based on pythagoras theorem."
   ]
  },
  {
   "cell_type": "code",
   "execution_count": null,
   "id": "da2464a2",
   "metadata": {},
   "outputs": [
    {
     "name": "stdout",
     "output_type": "stream",
     "text": [
      "5.0\n"
     ]
    }
   ],
   "source": [
    "# Find the hypotenues for 4 base and 3 perpendicular:\n",
    "\n",
    "base = 4\n",
    "perp = 3\n",
    "x = np.hypot(base, perp)   \n",
    "print(x)"
   ]
  }
 ],
 "metadata": {
  "kernelspec": {
   "display_name": "Python 3",
   "language": "python",
   "name": "python3"
  },
  "language_info": {
   "codemirror_mode": {
    "name": "ipython",
    "version": 3
   },
   "file_extension": ".py",
   "mimetype": "text/x-python",
   "name": "python",
   "nbconvert_exporter": "python",
   "pygments_lexer": "ipython3",
   "version": "3.10.0"
  }
 },
 "nbformat": 4,
 "nbformat_minor": 5
}
