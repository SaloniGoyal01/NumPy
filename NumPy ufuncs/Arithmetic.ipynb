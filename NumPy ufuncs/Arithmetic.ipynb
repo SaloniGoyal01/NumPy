{
 "cells": [
  {
   "cell_type": "markdown",
   "id": "15955dc1",
   "metadata": {},
   "source": [
    "### Addition"
   ]
  },
  {
   "cell_type": "code",
   "execution_count": null,
   "id": "0000e51d",
   "metadata": {},
   "outputs": [
    {
     "name": "stdout",
     "output_type": "stream",
     "text": [
      "[ 5  9 13]\n"
     ]
    }
   ],
   "source": [
    "import numpy as np\n",
    "\n",
    "arr1 = np.array([1,2,3])\n",
    "arr2 = np.array([4,7,10])\n",
    "newarr = np.add(arr1, arr2)\n",
    "print(newarr)"
   ]
  },
  {
   "cell_type": "markdown",
   "id": "42f6d355",
   "metadata": {},
   "source": [
    "### Subtraction"
   ]
  },
  {
   "cell_type": "code",
   "execution_count": null,
   "id": "f042e948",
   "metadata": {},
   "outputs": [
    {
     "name": "stdout",
     "output_type": "stream",
     "text": [
      "[-3 -5  3]\n"
     ]
    }
   ],
   "source": [
    "arr1 = np.array([1,2,13])\n",
    "arr2 = np.array([4,7,10])\n",
    "newarr = np.subtract(arr1, arr2)\n",
    "print(newarr)"
   ]
  },
  {
   "cell_type": "markdown",
   "id": "ff6d381a",
   "metadata": {},
   "source": [
    "### Multiplication"
   ]
  },
  {
   "cell_type": "code",
   "execution_count": 9,
   "id": "d7bc4608",
   "metadata": {},
   "outputs": [
    {
     "name": "stdout",
     "output_type": "stream",
     "text": [
      "[ 4 14  3]\n"
     ]
    }
   ],
   "source": [
    "arr1 = np.array([1,2,3])\n",
    "arr2 = np.array([4,7,1])\n",
    "newarr = np.multiply(arr1, arr2)\n",
    "print(newarr)"
   ]
  },
  {
   "cell_type": "markdown",
   "id": "65838600",
   "metadata": {},
   "source": [
    "### Division"
   ]
  },
  {
   "cell_type": "code",
   "execution_count": 10,
   "id": "7a11c869",
   "metadata": {},
   "outputs": [
    {
     "name": "stdout",
     "output_type": "stream",
     "text": [
      "[1.25 2.   1.3 ]\n"
     ]
    }
   ],
   "source": [
    "arr1 = np.array([5,14,13])\n",
    "arr2 = np.array([4,7,10])\n",
    "newarr = np.divide(arr1, arr2)\n",
    "print(newarr)"
   ]
  },
  {
   "cell_type": "markdown",
   "id": "dc5a3342",
   "metadata": {},
   "source": [
    "### Power"
   ]
  },
  {
   "cell_type": "code",
   "execution_count": 12,
   "id": "bbe4188d",
   "metadata": {},
   "outputs": [
    {
     "name": "stdout",
     "output_type": "stream",
     "text": [
      "[ 100 8000  900]\n"
     ]
    }
   ],
   "source": [
    "arr1 = np.array([10,20,30])\n",
    "arr2 = np.array([2,3,2])\n",
    "newarr = np.power(arr1, arr2)\n",
    "print(newarr)"
   ]
  },
  {
   "cell_type": "markdown",
   "id": "dd84e495",
   "metadata": {},
   "source": [
    "###  Remainder"
   ]
  },
  {
   "cell_type": "code",
   "execution_count": 14,
   "id": "4e15eb22",
   "metadata": {},
   "outputs": [
    {
     "name": "stdout",
     "output_type": "stream",
     "text": [
      "[1 2 0]\n"
     ]
    }
   ],
   "source": [
    "arr1 = np.array([11,20,30])\n",
    "arr2 = np.array([2,3,2])\n",
    "newarr = np.remainder(arr1, arr2)\n",
    "print(newarr)"
   ]
  },
  {
   "cell_type": "code",
   "execution_count": 15,
   "id": "e00f16a3",
   "metadata": {},
   "outputs": [
    {
     "name": "stdout",
     "output_type": "stream",
     "text": [
      "[1 2 0]\n"
     ]
    }
   ],
   "source": [
    "arr1 = np.array([11,20,30])\n",
    "arr2 = np.array([2,3,2])\n",
    "newarr = np.mod(arr1, arr2)\n",
    "print(newarr)"
   ]
  },
  {
   "cell_type": "markdown",
   "id": "d3a3a26b",
   "metadata": {},
   "source": [
    "###  Quotient and Mod"
   ]
  },
  {
   "cell_type": "code",
   "execution_count": null,
   "id": "cacde5d1",
   "metadata": {},
   "outputs": [
    {
     "name": "stdout",
     "output_type": "stream",
     "text": [
      "(array([ 5,  6, 15]), array([1, 2, 0]))\n"
     ]
    }
   ],
   "source": [
    "arr1 = np.array([11,20,30])\n",
    "arr2 = np.array([2,3,2])\n",
    "newarr = np.divmod(arr1, arr2)\n",
    "print(newarr)\n",
    "\n",
    "# Output:\n",
    "# (array([ 5,  6, 15]), array([1, 2, 0]))\n",
    "\n",
    "# Explanation:\n",
    "# For each element:\n",
    "# 11 ÷ 2 = 5 quotient, remainder 1\n",
    "# 20 ÷ 3 = 6 quotient, remainder 2\n",
    "# 30 ÷ 2 = 15 quotient, remainder 0"
   ]
  },
  {
   "cell_type": "markdown",
   "id": "6c52d26f",
   "metadata": {},
   "source": [
    "### Absolute Values"
   ]
  },
  {
   "cell_type": "code",
   "execution_count": null,
   "id": "d3f262c4",
   "metadata": {},
   "outputs": [
    {
     "name": "stdout",
     "output_type": "stream",
     "text": [
      "[1 2 3 1 2 2]\n"
     ]
    }
   ],
   "source": [
    "arr = np.array([-1, 2, -3, 1, 2, -2])\n",
    "newarr = np.absolute(arr)   # Apply np.absolute to get absolute values (remove negative sign)\n",
    "print(newarr)"
   ]
  },
  {
   "cell_type": "code",
   "execution_count": 19,
   "id": "3086fbe9",
   "metadata": {},
   "outputs": [
    {
     "name": "stdout",
     "output_type": "stream",
     "text": [
      "[1 2 3 1 2 2]\n"
     ]
    }
   ],
   "source": [
    "arr = np.array([-1, 2, -3, 1, 2, -2])\n",
    "newarr = np.abs(arr)\n",
    "print(newarr)"
   ]
  },
  {
   "cell_type": "markdown",
   "id": "44c9abc3",
   "metadata": {},
   "source": [
    "# Summations\n",
    "###  What is the difference between summation and addition? Addition is done between two arguments whereas summation happens over n elements.\n",
    "### Addition :- [1,2,3] + [4,5,6] = [5,7,9] ,   Summation :- Sum of [1,2,3,4] = 10"
   ]
  },
  {
   "cell_type": "code",
   "execution_count": 21,
   "id": "5f683661",
   "metadata": {},
   "outputs": [
    {
     "name": "stdout",
     "output_type": "stream",
     "text": [
      "12\n"
     ]
    }
   ],
   "source": [
    "arr1 = np.array([1, 2, 3])\n",
    "arr2 = np.array([1, 2, 3])\n",
    "newarr = np.sum([arr1, arr2])\n",
    "print(newarr)"
   ]
  },
  {
   "cell_type": "markdown",
   "id": "9b7c2b8a",
   "metadata": {},
   "source": [
    "## Summation Over an Axis\n",
    "#### If you specify axis=1, NumPy will sum the numbers in each array."
   ]
  },
  {
   "cell_type": "code",
   "execution_count": 22,
   "id": "f962b069",
   "metadata": {},
   "outputs": [
    {
     "name": "stdout",
     "output_type": "stream",
     "text": [
      "[6 6]\n"
     ]
    }
   ],
   "source": [
    "arr1 = np.array([1, 2, 3])\n",
    "arr2 = np.array([1, 2, 3])\n",
    "newarr = np.sum([arr1, arr2], axis=1)\n",
    "print(newarr)"
   ]
  },
  {
   "cell_type": "markdown",
   "id": "11444a20",
   "metadata": {},
   "source": [
    "## Cummulative Sum\n",
    "#### Cummulative sum means partially adding the elements in array.                                                                                       E.g. The partial sum of [1, 2, 3, 4] would be [1, 1+2, 1+2+3, 1+2+3+4] = [1, 3, 6, 10].\n",
    "#### Perfom partial sum with the cumsum() function."
   ]
  },
  {
   "cell_type": "code",
   "execution_count": 23,
   "id": "f96feeec",
   "metadata": {},
   "outputs": [
    {
     "name": "stdout",
     "output_type": "stream",
     "text": [
      "[1 3 6]\n"
     ]
    }
   ],
   "source": [
    "arr = np.array([1,2,3])\n",
    "newarr = np.cumsum(arr)\n",
    "print(newarr)"
   ]
  },
  {
   "cell_type": "markdown",
   "id": "02313973",
   "metadata": {},
   "source": [
    "# Products"
   ]
  },
  {
   "cell_type": "markdown",
   "id": "7d4cccc2",
   "metadata": {},
   "source": [
    "#### To find the product of the elements in an array, use the prod() function.  E.g. product of [1, 2, 3, 4]  =>  1 * 2 * 3 * 4 = 24"
   ]
  },
  {
   "cell_type": "code",
   "execution_count": 25,
   "id": "ecf78a07",
   "metadata": {},
   "outputs": [
    {
     "name": "stdout",
     "output_type": "stream",
     "text": [
      "24\n"
     ]
    }
   ],
   "source": [
    "arr = np.array([1,2,3,4])\n",
    "newarr = np.prod(arr)\n",
    "print(newarr)"
   ]
  },
  {
   "cell_type": "code",
   "execution_count": null,
   "id": "fb2a816c",
   "metadata": {},
   "outputs": [
    {
     "name": "stdout",
     "output_type": "stream",
     "text": [
      "40320\n"
     ]
    }
   ],
   "source": [
    "#  Find the product of the elements of two arrays:\n",
    "\n",
    "arr1 = np.array([1, 2, 3, 4])\n",
    "arr2 = np.array([5, 6, 7, 8])\n",
    "x = np.prod([arr1, arr2])        # 1 * 2 * 3 * 4 * 5 * 6 * 7 * 8 = 40320\n",
    "print(x) \n"
   ]
  },
  {
   "cell_type": "markdown",
   "id": "dccb3e90",
   "metadata": {},
   "source": [
    "## Product Over an Axis\n",
    "#### If you specify axis=1, NumPy will return the product of each array."
   ]
  },
  {
   "cell_type": "code",
   "execution_count": null,
   "id": "9205beee",
   "metadata": {},
   "outputs": [
    {
     "name": "stdout",
     "output_type": "stream",
     "text": [
      "[  24 1680]\n"
     ]
    }
   ],
   "source": [
    "\n",
    "arr1 = np.array([1, 2, 3, 4])\n",
    "arr2 = np.array([5, 6, 7, 8])\n",
    "newarr = np.prod([arr1, arr2], axis=1)\n",
    "print(newarr)\n",
    "\n",
    "#  Step-by-Step Product per Row\n",
    "# First row:\n",
    "# 1 * 2 * 3 * 4 = 24\n",
    "# Second row:\n",
    "# 5 * 6 * 7 * 8 = 1680\n",
    "\n"
   ]
  },
  {
   "cell_type": "markdown",
   "id": "bfedee7d",
   "metadata": {},
   "source": [
    "## Cummulative Product\n",
    "#### Cummulative product means taking the product partially. E.g. The partial product of [1, 2, 3, 4] is [1, 1*2, 1*2*3, 1*2*3*4] = [1, 2, 6, 24]\n",
    "#### Perfom partial sum with the cumprod() function."
   ]
  },
  {
   "cell_type": "code",
   "execution_count": 29,
   "id": "88068d83",
   "metadata": {},
   "outputs": [
    {
     "name": "stdout",
     "output_type": "stream",
     "text": [
      "[  5  40 120 240]\n"
     ]
    }
   ],
   "source": [
    "arr = np.array([5,8,3,2])\n",
    "newarr = np.cumprod(arr)\n",
    "print(newarr)"
   ]
  },
  {
   "cell_type": "markdown",
   "id": "feee1a45",
   "metadata": {},
   "source": [
    "# Differences\n",
    "### A discrete difference means subtracting two successive elements. E.g. for [1, 2, 3, 4], the discrete difference would be [2-1, 3-2, 4-3] = [1, 1, 1]\n",
    "## To find the discrete difference, use the diff() function."
   ]
  },
  {
   "cell_type": "code",
   "execution_count": 32,
   "id": "f02bc8fc",
   "metadata": {},
   "outputs": [
    {
     "name": "stdout",
     "output_type": "stream",
     "text": [
      "[1 4 3 5]\n"
     ]
    }
   ],
   "source": [
    "arr = np.array([3,4,8,11,16])\n",
    "newarr = np.diff(arr)\n",
    "print(newarr)"
   ]
  },
  {
   "cell_type": "markdown",
   "id": "e5456a0c",
   "metadata": {},
   "source": [
    "#### We can perform this operation repeatedly by giving parameter n.  E.g. for [1, 2, 3, 4], the discrete difference with n = 2 would be [2-1, 3-2, 4-3] = [1, 1, 1] , then, since n=2, we will do it once more, with the new result: [1-1, 1-1] = [0, 0]"
   ]
  },
  {
   "cell_type": "code",
   "execution_count": 35,
   "id": "f167ff2d",
   "metadata": {},
   "outputs": [
    {
     "name": "stdout",
     "output_type": "stream",
     "text": [
      "[ 3 -1  2]\n"
     ]
    }
   ],
   "source": [
    "arr = np.array([3,4,8,11,16])\n",
    "newarr = np.diff(arr, n=2)\n",
    "print(newarr)"
   ]
  }
 ],
 "metadata": {
  "kernelspec": {
   "display_name": "env",
   "language": "python",
   "name": "python3"
  },
  "language_info": {
   "codemirror_mode": {
    "name": "ipython",
    "version": 3
   },
   "file_extension": ".py",
   "mimetype": "text/x-python",
   "name": "python",
   "nbconvert_exporter": "python",
   "pygments_lexer": "ipython3",
   "version": "3.10.0"
  }
 },
 "nbformat": 4,
 "nbformat_minor": 5
}
