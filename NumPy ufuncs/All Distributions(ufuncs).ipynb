{
 "cells": [
  {
   "cell_type": "markdown",
   "id": "91863260",
   "metadata": {},
   "source": [
    "| **Distribution** | **NumPy Function**        | **Type**   | **# of Parameters** | **Parameters**                               | **Graph Shape / Nature**         |\n",
    "| ---------------- | ------------------------- | ---------- | ------------------- | -------------------------------------------- | -------------------------------- |\n",
    "| **Normal**       | `np.random.normal()`      | Continuous | 3                   | `loc` (mean), `scale` (std dev), `size`      | Bell curve (Symmetric)           |\n",
    "| **Binomial**     | `np.random.binomial()`    | Discrete   | 3                   | `n` (trials), `p` (prob. of success), `size` | Bar-like, peaks at mean          |\n",
    "| **Poisson**      | `np.random.poisson()`     | Discrete   | 2                   | `lam` (rate), `size`                         | Skewed, discrete steps           |\n",
    "| **Uniform**      | `np.random.uniform()`     | Continuous | 3                   | `low`, `high`, `size`                        | Flat / Rectangle                 |\n",
    "| **Logistic**     | `np.random.logistic()`    | Continuous | 3                   | `loc` (mean), `scale`, `size`                | S-shaped, heavier tails          |\n",
    "| **Multinomial**  | `np.random.multinomial()` | Discrete   | 3                   | `n` (trials), `pvals` (prob array), `size`   | Bar graph (category frequencies) |\n",
    "| **Exponential**  | `np.random.exponential()` | Continuous | 2                   | `scale` (1/λ), `size`                        | Exponential decay                |\n",
    "| **Chi Square**   | `np.random.chisquare()`   | Continuous | 2                   | `df` (degrees of freedom), `size`            | Right-skewed                     |\n",
    "| **Rayleigh**     | `np.random.rayleigh()`    | Continuous | 2                   | `scale`, `size`                              | Peak at non-zero, right-skewed   |\n",
    "| **Pareto**       | `np.random.pareto()`      | Continuous | 2                   | `a` (shape), `size`                          | Heavy tail, steep start          |\n",
    "| **Zipf**         | `np.random.zipf()`        | Discrete   | 2                   | `a` (parameter), `size`                      | Power-law, long tail             |\n"
   ]
  }
 ],
 "metadata": {
  "language_info": {
   "name": "python"
  }
 },
 "nbformat": 4,
 "nbformat_minor": 5
}
