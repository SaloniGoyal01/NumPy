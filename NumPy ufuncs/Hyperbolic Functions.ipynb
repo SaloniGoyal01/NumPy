{
 "cells": [
  {
   "cell_type": "code",
   "execution_count": null,
   "id": "844cbfbe",
   "metadata": {},
   "outputs": [],
   "source": [
    "# Hyperbolic Functions\n",
    "# NumPy provides the ufuncs sinh(), cosh() and tanh() that take values in radians and produce the corresponding sinh, cosh and tanh values.."
   ]
  },
  {
   "cell_type": "code",
   "execution_count": 2,
   "id": "67fc66df",
   "metadata": {},
   "outputs": [
    {
     "name": "stdout",
     "output_type": "stream",
     "text": [
      "2.3012989023072947\n"
     ]
    }
   ],
   "source": [
    "import numpy as np\n",
    "\n",
    "# Find sinh value of PI/2:\n",
    "\n",
    "x = np.sinh(np.pi/2)\n",
    "print(x)\n"
   ]
  },
  {
   "cell_type": "code",
   "execution_count": 6,
   "id": "92b3506a",
   "metadata": {},
   "outputs": [
    {
     "name": "stdout",
     "output_type": "stream",
     "text": [
      "[2.50917848 1.60028686 1.32460909 1.20397209]\n"
     ]
    }
   ],
   "source": [
    "#  Find cosh values for all of the values in arr: [np.pi/2, np.pi/3, np.pi/4, np.pi/5]\n",
    "\n",
    "arr = np.array([np.pi/2, np.pi/3, np.pi/4, np.pi/5])\n",
    "x = np.cosh(arr)\n",
    "print(x)"
   ]
  },
  {
   "cell_type": "markdown",
   "id": "fe42e04a",
   "metadata": {},
   "source": [
    "## Finding Angles"
   ]
  },
  {
   "cell_type": "code",
   "execution_count": 7,
   "id": "851c4c61",
   "metadata": {},
   "outputs": [],
   "source": [
    "# Finding angles from values of hyperbolic sine, cos, tan. E.g. sinh, cosh and tanh inverse (arcsinh, arccosh, arctanh).\n",
    "# Numpy provides ufuncs arcsinh(), arccosh() and arctanh() that produce radian values for corresponding sinh, cosh and tanh values given."
   ]
  },
  {
   "cell_type": "code",
   "execution_count": 8,
   "id": "da7ca892",
   "metadata": {},
   "outputs": [
    {
     "name": "stdout",
     "output_type": "stream",
     "text": [
      "0.881373587019543\n"
     ]
    }
   ],
   "source": [
    "#  Find the angle of 1.0:\n",
    "\n",
    "x = np.arcsinh(1.0)\n",
    "print(x)"
   ]
  },
  {
   "cell_type": "markdown",
   "id": "c3f91afb",
   "metadata": {},
   "source": [
    "##  Angles of Each Value in Arrays"
   ]
  },
  {
   "cell_type": "code",
   "execution_count": null,
   "id": "d4b7d8f2",
   "metadata": {},
   "outputs": [],
   "source": [
    "#  Find the angle for all of the tanh values in array:"
   ]
  },
  {
   "cell_type": "code",
   "execution_count": 9,
   "id": "32d22d19",
   "metadata": {},
   "outputs": [
    {
     "name": "stdout",
     "output_type": "stream",
     "text": [
      "[0.10033535 0.20273255 0.54930614]\n"
     ]
    }
   ],
   "source": [
    "arr = np.array([0.1, 0.2, 0.5])\n",
    "x = np.arctanh(arr)\n",
    "print(x)"
   ]
  }
 ],
 "metadata": {
  "kernelspec": {
   "display_name": "Python 3",
   "language": "python",
   "name": "python3"
  },
  "language_info": {
   "codemirror_mode": {
    "name": "ipython",
    "version": 3
   },
   "file_extension": ".py",
   "mimetype": "text/x-python",
   "name": "python",
   "nbconvert_exporter": "python",
   "pygments_lexer": "ipython3",
   "version": "3.10.0"
  }
 },
 "nbformat": 4,
 "nbformat_minor": 5
}
