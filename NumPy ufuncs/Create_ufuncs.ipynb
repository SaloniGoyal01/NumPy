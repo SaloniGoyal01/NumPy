{
 "cells": [
  {
   "cell_type": "code",
   "execution_count": null,
   "id": "0d87533d",
   "metadata": {},
   "outputs": [],
   "source": [
    "# ufunc stands for Universal Function in NumPy.\n",
    "# Ufuncs are optimized, vectorized functions that perform element-wise operations on arrays fast and efficiently, without using explicit Python loops."
   ]
  },
  {
   "cell_type": "markdown",
   "id": "e737e229",
   "metadata": {},
   "source": [
    "| Without ufunc            | With ufunc                                 |\n",
    "| ------------------------ | ------------------------------------------ |\n",
    "| Slow due to Python loops | Fast because of low-level C implementation |\n",
    "| More code                | Shorter, cleaner code                      |\n",
    "| Not optimized for arrays | Optimized for array operations             |\n"
   ]
  },
  {
   "cell_type": "code",
   "execution_count": 6,
   "id": "29cf9b90",
   "metadata": {},
   "outputs": [
    {
     "name": "stdout",
     "output_type": "stream",
     "text": [
      "[6, 8, 10, 12]\n"
     ]
    }
   ],
   "source": [
    "#  Without ufunc, we can use Python's built-in zip() method:\n",
    "\n",
    "x = [1,2,3,4]\n",
    "y = [5,6,7,8]\n",
    "z = []           # Empty list to store results\n",
    "\n",
    "for i,j in zip(x, y) :           # Iterate over both lists element-wise using zip\n",
    "    z.append(i + j)              # Add corresponding elements and append to z\n",
    "print(z)\n",
    "\n",
    "# Output: [6, 8, 10, 12]\n",
    "# Explanation:\n",
    "# 1+5 = 6\n",
    "# 2+6 = 8\n",
    "# 3+7 = 10\n",
    "# 4+8 = 12\n",
    "# So the final list z contains the element-wise sums."
   ]
  },
  {
   "cell_type": "code",
   "execution_count": 7,
   "id": "e4e37f08",
   "metadata": {},
   "outputs": [
    {
     "name": "stdout",
     "output_type": "stream",
     "text": [
      "[ 6  8 10 12]\n"
     ]
    }
   ],
   "source": [
    "#  With ufunc, we can use the add() function:\n",
    "\n",
    "import numpy as np\n",
    "\n",
    "x = [1,2,3,4]\n",
    "y = [5,6,7,8]\n",
    "z = np.add(x, y)\n",
    "print(z)"
   ]
  },
  {
   "cell_type": "markdown",
   "id": "347e83cb",
   "metadata": {},
   "source": [
    "## Create Your Own ufunc"
   ]
  },
  {
   "cell_type": "code",
   "execution_count": null,
   "id": "f99d0e1b",
   "metadata": {},
   "outputs": [],
   "source": [
    "# How To Create Your Own ufunc\n",
    "# To create your own ufunc, you have to define a function, like you do with normal functions in Python,\n",
    "#  then you add it to your NumPy ufunc library with the frompyfunc() method.\n",
    "\n",
    "# The frompyfunc() method takes the following arguments:\n",
    "# function - the name of the function.\n",
    "# inputs - the number of input arguments (arrays).\n",
    "# outputs - the number of output arrays."
   ]
  },
  {
   "cell_type": "code",
   "execution_count": 25,
   "id": "d0294bba",
   "metadata": {},
   "outputs": [
    {
     "name": "stdout",
     "output_type": "stream",
     "text": [
      "[5 7 9]\n"
     ]
    }
   ],
   "source": [
    "import numpy as np\n",
    "\n",
    "#   Create your own ufunc for addition:\n",
    "\n",
    "def myadd(a, b):\n",
    "    return a+b\n",
    "\n",
    "myadd = np.frompyfunc(myadd, 2,1)    # Convert the normal function into a ufunc (Universal Function)\n",
    "# 2 inputs: a, b\n",
    "# 1 output: a + b\n",
    "\n",
    "print(myadd([1,2,3], [4,5,6]))"
   ]
  },
  {
   "cell_type": "code",
   "execution_count": 26,
   "id": "6bb6561a",
   "metadata": {},
   "outputs": [
    {
     "name": "stdout",
     "output_type": "stream",
     "text": [
      "<class 'numpy.ufunc'>\n"
     ]
    }
   ],
   "source": [
    "#  Check if a function is a ufunc:\n",
    "print(type(np.add))"
   ]
  },
  {
   "cell_type": "code",
   "execution_count": 27,
   "id": "71853488",
   "metadata": {},
   "outputs": [
    {
     "name": "stdout",
     "output_type": "stream",
     "text": [
      "<class 'numpy._ArrayFunctionDispatcher'>\n"
     ]
    }
   ],
   "source": [
    "#  Check the type of another function: concatenate():\n",
    "print(type(np.concatenate))\n"
   ]
  },
  {
   "cell_type": "code",
   "execution_count": 28,
   "id": "66b6b997",
   "metadata": {},
   "outputs": [
    {
     "name": "stdout",
     "output_type": "stream",
     "text": [
      "add is unfunc\n"
     ]
    }
   ],
   "source": [
    "#  Use an if statement to check if the function is a ufunc or not:\n",
    "\n",
    "if type(np.add) == np.ufunc :\n",
    "    print(\"add is unfunc\")\n",
    "else:\n",
    "    print(\"add is not ufunc\")\n",
    "# np.add is a built-in universal function (ufunc) in NumPy.\n",
    "# np.ufunc is the class type of all ufuncs.\n",
    "# So, type(np.add) will return np.ufunc, making the condition True."
   ]
  }
 ],
 "metadata": {
  "kernelspec": {
   "display_name": "env",
   "language": "python",
   "name": "python3"
  },
  "language_info": {
   "codemirror_mode": {
    "name": "ipython",
    "version": 3
   },
   "file_extension": ".py",
   "mimetype": "text/x-python",
   "name": "python",
   "nbconvert_exporter": "python",
   "pygments_lexer": "ipython3",
   "version": "3.10.0"
  }
 },
 "nbformat": 4,
 "nbformat_minor": 5
}
