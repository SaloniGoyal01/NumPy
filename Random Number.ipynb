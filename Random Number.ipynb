{
 "cells": [
  {
   "cell_type": "markdown",
   "id": "76a952f2",
   "metadata": {},
   "source": [
    "###  Generate Random Number"
   ]
  },
  {
   "cell_type": "code",
   "execution_count": 3,
   "id": "42c7469e",
   "metadata": {},
   "outputs": [
    {
     "name": "stdout",
     "output_type": "stream",
     "text": [
      "25\n"
     ]
    }
   ],
   "source": [
    "from numpy import random\n",
    "\n",
    "#   Generate a random integer from 0 to 100:\n",
    "\n",
    "x = random.randint(100)\n",
    "print(x)\n"
   ]
  },
  {
   "cell_type": "code",
   "execution_count": 5,
   "id": "8120ee52",
   "metadata": {},
   "outputs": [
    {
     "name": "stdout",
     "output_type": "stream",
     "text": [
      "0.9565436388716785\n"
     ]
    }
   ],
   "source": [
    "#   Generate a random float from 0 to 1:\n",
    "\n",
    "x = random.rand()\n",
    "print(x)"
   ]
  },
  {
   "cell_type": "code",
   "execution_count": 9,
   "id": "e4f1538e",
   "metadata": {},
   "outputs": [
    {
     "name": "stdout",
     "output_type": "stream",
     "text": [
      "[89 37 47 56  4]\n"
     ]
    }
   ],
   "source": [
    "#   Generate a 1-D array containing 5 random integers from 0 to 100:\n",
    "\n",
    "x = random.randint(100, size = (5))\n",
    "print(x)"
   ]
  },
  {
   "cell_type": "code",
   "execution_count": 13,
   "id": "9d05c6f8",
   "metadata": {},
   "outputs": [
    {
     "name": "stdout",
     "output_type": "stream",
     "text": [
      "[[32 47 11]\n",
      " [59 22 65]]\n"
     ]
    }
   ],
   "source": [
    "#   Generate a 2-D array with 3 rows, each row containing 5 random integers from 0 to 100:\n",
    "\n",
    "x = random.randint(100, size = (2,3))\n",
    "print(x)"
   ]
  },
  {
   "cell_type": "code",
   "execution_count": 14,
   "id": "5c2a699c",
   "metadata": {},
   "outputs": [
    {
     "name": "stdout",
     "output_type": "stream",
     "text": [
      "[0.99128839 0.60421598 0.76102374 0.48266983 0.71441732]\n"
     ]
    }
   ],
   "source": [
    "#   Generate a 1-D array containing 5 random floats:\n",
    "\n",
    "\n",
    "x = random.rand(5)\n",
    "print(x)"
   ]
  },
  {
   "cell_type": "code",
   "execution_count": 15,
   "id": "49f426ef",
   "metadata": {},
   "outputs": [
    {
     "name": "stdout",
     "output_type": "stream",
     "text": [
      "[[0.27202253 0.28609911 0.65590658 0.66341196 0.56738843]\n",
      " [0.45595128 0.92321328 0.85398703 0.06169249 0.33793039]\n",
      " [0.20519101 0.20307872 0.93518369 0.09329878 0.74016864]]\n"
     ]
    }
   ],
   "source": [
    "#   Generate a 2-D array with 3 rows, each row containing 5 random numbers:\n",
    "\n",
    "x = random.rand(3, 5)\n",
    "print(x)"
   ]
  },
  {
   "cell_type": "code",
   "execution_count": 17,
   "id": "1aa6315f",
   "metadata": {},
   "outputs": [
    {
     "name": "stdout",
     "output_type": "stream",
     "text": [
      "20\n"
     ]
    }
   ],
   "source": [
    "#   Return one of the values in an array:\n",
    "#   The choice() method allows you to generate a random value based on an array of values.\n",
    "#   The choice() method takes an array as a parameter and randomly returns one of the values.\n",
    "\n",
    "x = random.choice([10, 20, 30, 40])\n",
    "print(x)"
   ]
  },
  {
   "cell_type": "code",
   "execution_count": 20,
   "id": "1696a2c0",
   "metadata": {},
   "outputs": [
    {
     "name": "stdout",
     "output_type": "stream",
     "text": [
      "[[20 20 20 30 30]\n",
      " [10 10 30 20 20]\n",
      " [40 20 40 40 20]]\n"
     ]
    }
   ],
   "source": [
    "#   Generate a 2-D array that consists of the values in the array parameter (10, 20, 30, and 40):\n",
    "\n",
    "x = random.choice([10, 20, 30, 40], size = (3,5))\n",
    "print(x)"
   ]
  },
  {
   "cell_type": "markdown",
   "id": "735c0cac",
   "metadata": {},
   "source": [
    "# Random Data Distribution"
   ]
  },
  {
   "cell_type": "code",
   "execution_count": 26,
   "id": "8140cdbb",
   "metadata": {},
   "outputs": [
    {
     "name": "stdout",
     "output_type": "stream",
     "text": [
      "[5 7 5 5 5 7 7 7 7 7 7 5 5 7 7 7 7 5 7 5 7 7 7 5 7 7 7 5 7 7 3 7 7 3 3 7 5\n",
      " 7 7 7 7 3 3 3 7 7 7 7 7 5 7 7 7 7 7 7 5 7 7 5 7 5 5 3 7 5 7 3 7 5 3 7 5 5\n",
      " 7 3 5 7 7 7 7 5 5 5 3 5 5 7 5 5 5 5 7 3 5 7 7 7 7 7]\n"
     ]
    }
   ],
   "source": [
    "# Generate a 1-D array containing 100 values, where each value has to be 3, 5, 7 or 9.\n",
    "# The probability for the value to be 3 is set to be 0.1 (0.1 → 10% chance)\n",
    "# The probability for the value to be 5 is set to be 0.3 (0.3 → 30% chance)\n",
    "# The probability for the value to be 7 is set to be 0.6 (0.6 → 60% chance)\n",
    "# The probability for the value to be 9 is set to be 0   (0.0 → 0% chance (kabhi nhi aayega))\n",
    "\n",
    "x = random.choice([3,5,7,9], p=[0.1, 0.3, 0.6, 0.0], size=(100))\n",
    "print(x)"
   ]
  },
  {
   "cell_type": "code",
   "execution_count": 29,
   "id": "37502ab2",
   "metadata": {},
   "outputs": [
    {
     "name": "stdout",
     "output_type": "stream",
     "text": [
      "[[5 7 7 7 5]\n",
      " [7 7 7 3 5]\n",
      " [7 7 7 5 7]]\n"
     ]
    }
   ],
   "source": [
    "x = random.choice([3,5,7,9], p=[0.1,0.3,0.6,0.0], size=(3,5))\n",
    "print(x)"
   ]
  }
 ],
 "metadata": {
  "kernelspec": {
   "display_name": "env",
   "language": "python",
   "name": "python3"
  },
  "language_info": {
   "codemirror_mode": {
    "name": "ipython",
    "version": 3
   },
   "file_extension": ".py",
   "mimetype": "text/x-python",
   "name": "python",
   "nbconvert_exporter": "python",
   "pygments_lexer": "ipython3",
   "version": "3.10.0"
  }
 },
 "nbformat": 4,
 "nbformat_minor": 5
}
