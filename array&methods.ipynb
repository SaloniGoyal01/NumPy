{
 "cells": [
  {
   "cell_type": "markdown",
   "id": "370a9d25",
   "metadata": {},
   "source": [
    "Learn abount numpy\n"
   ]
  },
  {
   "cell_type": "code",
   "execution_count": 5,
   "id": "b0ae2da8",
   "metadata": {},
   "outputs": [],
   "source": [
    "import numpy as np"
   ]
  },
  {
   "cell_type": "markdown",
   "id": "5cf41dba",
   "metadata": {},
   "source": [
    "Creating array from list"
   ]
  },
  {
   "cell_type": "code",
   "execution_count": 6,
   "id": "c0efb07c",
   "metadata": {},
   "outputs": [
    {
     "name": "stdout",
     "output_type": "stream",
     "text": [
      "1D Array : [1 2]\n"
     ]
    }
   ],
   "source": [
    "arr_1d = np.array([1,2])\n",
    "print(\"1D Array :\", arr_1d)"
   ]
  },
  {
   "cell_type": "code",
   "execution_count": 7,
   "id": "0eddfac4",
   "metadata": {},
   "outputs": [
    {
     "name": "stdout",
     "output_type": "stream",
     "text": [
      "1D Array [1 2 3]\n",
      "int64\n",
      "(3,)\n",
      "3\n"
     ]
    }
   ],
   "source": [
    "arr_1d = np.array([1,2,3])\n",
    "print(\"1D Array\", arr_1d)\n",
    "print(arr_1d.dtype)\n",
    "print(arr_1d.shape)\n",
    "print(arr_1d.size)"
   ]
  },
  {
   "cell_type": "code",
   "execution_count": 8,
   "id": "06df8d3a",
   "metadata": {},
   "outputs": [
    {
     "name": "stdout",
     "output_type": "stream",
     "text": [
      "2D ARRAY : [[1 2 3]\n",
      " [4 5 6]]\n"
     ]
    }
   ],
   "source": [
    "arr_2d = np.array([[1,2,3], [4,5,6]])\n",
    "print(\"2D ARRAY :\", arr_2d)"
   ]
  },
  {
   "cell_type": "code",
   "execution_count": 9,
   "id": "c0bac277",
   "metadata": {},
   "outputs": [
    {
     "name": "stdout",
     "output_type": "stream",
     "text": [
      "2D Array : [[1 2 3 4]\n",
      " [5 6 7 8]]\n",
      "int64\n",
      "(2, 4)\n",
      "8\n"
     ]
    }
   ],
   "source": [
    "arr_2d = np.array([[1,2,3,4], [5,6,7,8]])\n",
    "print(\"2D Array :\", arr_2d)\n",
    "print(arr_2d.dtype)\n",
    "print(arr_2d.shape)\n",
    "print(arr_2d.size)"
   ]
  },
  {
   "cell_type": "markdown",
   "id": "5d74c479",
   "metadata": {},
   "source": [
    "List vs numpy Array"
   ]
  },
  {
   "cell_type": "code",
   "execution_count": 10,
   "id": "a05355f6",
   "metadata": {},
   "outputs": [
    {
     "name": "stdout",
     "output_type": "stream",
     "text": [
      "python list multiplication [1, 2, 3, 1, 2, 3]\n"
     ]
    }
   ],
   "source": [
    "py_list = [1,2,3]\n",
    "print(\"python list multiplication\", py_list * 2)"
   ]
  },
  {
   "cell_type": "code",
   "execution_count": 11,
   "id": "68c91cf0",
   "metadata": {},
   "outputs": [
    {
     "name": "stdout",
     "output_type": "stream",
     "text": [
      "python array multiplication [2 4 6]\n"
     ]
    }
   ],
   "source": [
    "py_arr = np.array([1,2,3])   # Elements wise multiplication\n",
    "print(\"python array multiplication\", py_arr * 2)"
   ]
  },
  {
   "cell_type": "markdown",
   "id": "c34de8aa",
   "metadata": {},
   "source": [
    "Measuring Execution Time of List Comprehension in Python"
   ]
  },
  {
   "cell_type": "code",
   "execution_count": 12,
   "id": "71a6423f",
   "metadata": {},
   "outputs": [
    {
     "name": "stdout",
     "output_type": "stream",
     "text": [
      "\n",
      " List operation time:  0.19475317001342773\n"
     ]
    }
   ],
   "source": [
    "# Importing time module to measure execution time\n",
    "import time\n",
    "\n",
    "# Record the start time\n",
    "start = time.time()\n",
    "\n",
    "# Creating a Python list with numbers multiplied by 2 from 0 to 999999\n",
    "py_list = [i * 2 for i in range(1000000)]\n",
    "\n",
    "# Calculating the total time taken for the above operation\n",
    "print(\"\\n List operation time: \", time.time() - start)\n"
   ]
  },
  {
   "cell_type": "markdown",
   "id": "5a1beb52",
   "metadata": {},
   "source": [
    "Measuring Execution Time of NumPy Array Operation"
   ]
  },
  {
   "cell_type": "code",
   "execution_count": 13,
   "id": "48486ae8",
   "metadata": {},
   "outputs": [
    {
     "name": "stdout",
     "output_type": "stream",
     "text": [
      "\n",
      "Numpy operation time:  0.01196742057800293\n"
     ]
    }
   ],
   "source": [
    "import time             # For measuring execution time\n",
    "import numpy as np      # For numerical operations\n",
    "\n",
    "# Record the start time\n",
    "start = time.time()\n",
    "\n",
    "# Create a NumPy array with numbers from 0 to 999999 and multiply each by 2\n",
    "py_arr = np.arange(1000000) * 2\n",
    "\n",
    "# Print the time taken to perform the NumPy operation\n",
    "print(\"\\nNumpy operation time: \", time.time() - start)\n"
   ]
  },
  {
   "cell_type": "markdown",
   "id": "8f10cc6d",
   "metadata": {},
   "source": [
    "Creating Array from Scratch"
   ]
  },
  {
   "cell_type": "code",
   "execution_count": 14,
   "id": "12bbb71e",
   "metadata": {},
   "outputs": [
    {
     "name": "stdout",
     "output_type": "stream",
     "text": [
      "zeros array \n",
      " [[0. 0. 0. 0.]\n",
      " [0. 0. 0. 0.]\n",
      " [0. 0. 0. 0.]]\n"
     ]
    }
   ],
   "source": [
    "zeros = np.zeros((3,4))\n",
    "print(\"zeros array \\n\", zeros)"
   ]
  },
  {
   "cell_type": "code",
   "execution_count": 15,
   "id": "e6e15ed4",
   "metadata": {},
   "outputs": [
    {
     "name": "stdout",
     "output_type": "stream",
     "text": [
      "ones array \n",
      " [[1. 1. 1. 1.]\n",
      " [1. 1. 1. 1.]\n",
      " [1. 1. 1. 1.]]\n"
     ]
    }
   ],
   "source": [
    "ones = np.ones((3,4))\n",
    "print(\"ones array \\n\", ones)"
   ]
  },
  {
   "cell_type": "code",
   "execution_count": 16,
   "id": "8024b075",
   "metadata": {},
   "outputs": [
    {
     "name": "stdout",
     "output_type": "stream",
     "text": [
      "full array \n",
      " [[7 7 7 7]\n",
      " [7 7 7 7]\n",
      " [7 7 7 7]]\n"
     ]
    }
   ],
   "source": [
    "full = np.full((3,4), 7)\n",
    "print(\"full array \\n\", full)"
   ]
  },
  {
   "cell_type": "code",
   "execution_count": 19,
   "id": "f170f885",
   "metadata": {},
   "outputs": [
    {
     "name": "stdout",
     "output_type": "stream",
     "text": [
      "random array : \n",
      " [[0.20903626 0.16567161 0.48425373]\n",
      " [0.82196893 0.20639216 0.68553487]]\n"
     ]
    }
   ],
   "source": [
    "random = np.random.random((2,3))\n",
    "print(\"random array : \\n\", random)"
   ]
  },
  {
   "cell_type": "code",
   "execution_count": 22,
   "id": "cc94cbcf",
   "metadata": {},
   "outputs": [
    {
     "name": "stdout",
     "output_type": "stream",
     "text": [
      "sequence array \n",
      " [ 0  2  4  6  8 10]\n"
     ]
    }
   ],
   "source": [
    "sequence = np.arange(0, 11, 2)\n",
    "print(\"sequence array \\n\", sequence)"
   ]
  }
 ],
 "metadata": {
  "kernelspec": {
   "display_name": "env",
   "language": "python",
   "name": "python3"
  },
  "language_info": {
   "codemirror_mode": {
    "name": "ipython",
    "version": 3
   },
   "file_extension": ".py",
   "mimetype": "text/x-python",
   "name": "python",
   "nbconvert_exporter": "python",
   "pygments_lexer": "ipython3",
   "version": "3.10.0"
  }
 },
 "nbformat": 4,
 "nbformat_minor": 5
}
