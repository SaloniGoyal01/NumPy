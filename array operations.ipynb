{
 "cells": [
  {
   "cell_type": "markdown",
   "id": "e3d591f4",
   "metadata": {},
   "source": [
    "## Numpy Array Operation"
   ]
  },
  {
   "cell_type": "code",
   "execution_count": 3,
   "id": "d9369053",
   "metadata": {},
   "outputs": [
    {
     "name": "stdout",
     "output_type": "stream",
     "text": [
      "Basic Slicing : [2 3 4 5 6]\n",
      "With Step : [1 3 5 7]\n",
      "Negative Indexing 9\n"
     ]
    }
   ],
   "source": [
    "import numpy as np\n",
    "arr = np.array([0,1,2,3,4,5,6,7,8,9,10])\n",
    "\n",
    "print(\"Basic Slicing :\", arr[2: 7])      # Index 2 to 6 (7 excluded) \n",
    "print(\"With Step :\", arr[1:8:2])         # Index 1 to 7 with step of 2\n",
    "print(\"Negative Indexing\", arr[-2])      # Second last element"
   ]
  },
  {
   "cell_type": "code",
   "execution_count": 4,
   "id": "912f427d",
   "metadata": {},
   "outputs": [
    {
     "name": "stdout",
     "output_type": "stream",
     "text": [
      "Specific Element : 3\n",
      "Entire Row : [4 5 6]\n",
      "Entire Column : [3 6 9]\n"
     ]
    }
   ],
   "source": [
    "arr_2d = np.array([[1,2,3],\n",
    "                   [4,5,6],\n",
    "                   [7,8,9]])\n",
    "print(\"Specific Element :\", arr_2d[0, 2])       # Element at row 0, column 2\n",
    "print(\"Entire Row :\", arr_2d[1])                # Entire second row (index 1)\n",
    "print(\"Entire Column :\", arr_2d[:,2])           # Entire third column (index 2)"
   ]
  },
  {
   "cell_type": "markdown",
   "id": "a8b8920e",
   "metadata": {},
   "source": [
    "## Sorting\n"
   ]
  },
  {
   "cell_type": "code",
   "execution_count": 5,
   "id": "21dffe6b",
   "metadata": {},
   "outputs": [
    {
     "name": "stdout",
     "output_type": "stream",
     "text": [
      "Sorted Array : [1 1 2 2 2 3 4 5 5 6 7 8 9]\n"
     ]
    }
   ],
   "source": [
    "unsorted = np.array([2,5,1,8,3,1,9,5,2,7,6,4,2])\n",
    "print(\"Sorted Array :\", np.sort(unsorted))"
   ]
  },
  {
   "cell_type": "code",
   "execution_count": 6,
   "id": "6c04fee5",
   "metadata": {},
   "outputs": [
    {
     "name": "stdout",
     "output_type": "stream",
     "text": [
      "Sorted 2d Array Default by Row : [[1 7]\n",
      " [1 4]\n",
      " [3 9]]\n",
      "Sorted 2d Array by Row : [[1 7]\n",
      " [1 4]\n",
      " [3 9]]\n",
      "Sorted 2d Array by Column : [[4 1]\n",
      " [7 1]\n",
      " [9 3]]\n"
     ]
    }
   ],
   "source": [
    "unsorted_2d_array = np.array([[7,1], [4,1], [9,3]])\n",
    "print(\"Sorted 2d Array Default by Row :\", np.sort(unsorted_2d_array))\n",
    "print(\"Sorted 2d Array by Row :\", np.sort(unsorted_2d_array, axis=1))      # (axis=1 means row-wise)\n",
    "print(\"Sorted 2d Array by Column :\", np.sort(unsorted_2d_array, axis=0))   # Sorting each column (axis=0 means column-wise)"
   ]
  },
  {
   "cell_type": "markdown",
   "id": "dc21add6",
   "metadata": {},
   "source": [
    "## Filter\n"
   ]
  },
  {
   "cell_type": "code",
   "execution_count": 7,
   "id": "d3099d46",
   "metadata": {},
   "outputs": [
    {
     "name": "stdout",
     "output_type": "stream",
     "text": [
      "Even Numbers : [ 2  4  6  8 10]\n"
     ]
    }
   ],
   "source": [
    "numbers = np.array([1,2,3,4,5,6,7,8,9,10])\n",
    "even_num = numbers[numbers % 2 == 0]\n",
    "print(\"Even Numbers :\", even_num)"
   ]
  },
  {
   "cell_type": "markdown",
   "id": "13c2f0fb",
   "metadata": {},
   "source": [
    "## Filter with Mask"
   ]
  },
  {
   "cell_type": "markdown",
   "id": "ad2d7c9f",
   "metadata": {},
   "source": [
    "### A mask in NumPy is a boolean array used for:\n",
    "\n",
    "1. Filtering data\n",
    "2. Selecting specific elements based on a condition\n",
    "3. Modifying specific elements conditionally\n",
    "4. Performing computations on selected elements only"
   ]
  },
  {
   "cell_type": "code",
   "execution_count": 8,
   "id": "ef73f25f",
   "metadata": {},
   "outputs": [
    {
     "name": "stdout",
     "output_type": "stream",
     "text": [
      "numbers greater than 5 : [ 6  7  8  9 10]\n"
     ]
    }
   ],
   "source": [
    "numbers = np.array([1,2,3,4,5,6,7,8,9,10])\n",
    "mask = numbers > 5\n",
    "print(\"numbers greater than 5 :\", numbers[mask])"
   ]
  },
  {
   "cell_type": "markdown",
   "id": "1b506fe2",
   "metadata": {},
   "source": [
    "### Fancy indexing vs np.where()"
   ]
  },
  {
   "cell_type": "code",
   "execution_count": 9,
   "id": "a032663b",
   "metadata": {},
   "outputs": [
    {
     "name": "stdout",
     "output_type": "stream",
     "text": [
      "[1 3 5]\n",
      "(array([5, 6, 7, 8, 9]),)\n",
      "NP where  [ 6  7  8  9 10]\n"
     ]
    }
   ],
   "source": [
    "numbers = np.array([1,2,3,4,5,6,7,8,9,10])\n",
    "indices = [0,2,4]    # Direct indexing using a list of specific indices\n",
    "print(numbers[indices])\n",
    "\n",
    "where_result = np.where(numbers > 5)    # np.where returns the indices where the condition is True\n",
    "print(where_result)                     # Returns tuple of indices where numbers > 5\n",
    "\n",
    "# Using the indices from where_result to access numbers > 5\n",
    "print(\"NP where \", numbers[where_result])    \n"
   ]
  },
  {
   "cell_type": "code",
   "execution_count": 10,
   "id": "d4de608f",
   "metadata": {},
   "outputs": [
    {
     "name": "stdout",
     "output_type": "stream",
     "text": [
      "[ 1  2  3  4  5 12 14 16 18 20]\n"
     ]
    }
   ],
   "source": [
    "numbers = np.array([1,2,3,4,5,6,7,8,9,10])\n",
    "condition_arr = np.where(numbers > 5, numbers*2, numbers)\n",
    "print(condition_arr)"
   ]
  },
  {
   "cell_type": "markdown",
   "id": "dc25ca01",
   "metadata": {},
   "source": [
    "## Adding and Removing Data"
   ]
  },
  {
   "cell_type": "code",
   "execution_count": 15,
   "id": "34570ba8",
   "metadata": {},
   "outputs": [
    {
     "name": "stdout",
     "output_type": "stream",
     "text": [
      "[1 2 3 4 5 6]\n"
     ]
    }
   ],
   "source": [
    "arr1 = np.array([1,2,3])\n",
    "arr2 = np.array([4,5,6])\n",
    "combined = np.concatenate((arr1, arr2))\n",
    "print(combined)"
   ]
  },
  {
   "cell_type": "markdown",
   "id": "58314c9b",
   "metadata": {},
   "source": [
    "## Array Compatibility"
   ]
  },
  {
   "cell_type": "code",
   "execution_count": null,
   "id": "4fdbdf78",
   "metadata": {},
   "outputs": [
    {
     "name": "stdout",
     "output_type": "stream",
     "text": [
      "Compatibility shapes True\n",
      "compatibility shapes False\n"
     ]
    }
   ],
   "source": [
    "a = np.array([1,2,3])\n",
    "b = np.array([4,5,6])\n",
    "c = np.array([7,8,9,10])\n",
    "print(\"Compatibility shapes\", a.shape == b.shape)     # Check if the shape (size/dimensions) of array 'a' and 'b' are the same\n",
    "print(\"compatibility shapes\", b.shape == c.shape)     # Check if the shape of 'b' and 'c' are the same"
   ]
  },
  {
   "cell_type": "code",
   "execution_count": null,
   "id": "2bff3f72",
   "metadata": {},
   "outputs": [
    {
     "name": "stdout",
     "output_type": "stream",
     "text": [
      "Original Row \n",
      " [[1 2]\n",
      " [3 4]]\n",
      "With New Row \n",
      " [[1 2]\n",
      " [3 4]\n",
      " [5 6]]\n"
     ]
    }
   ],
   "source": [
    "original_row = np.array([[1,2], [3,4]])\n",
    "new_row = np.array([5,6])\n",
    "\n",
    "# np.vstack() is used to stack arrays vertically (row-wise).\n",
    "# It combines multiple arrays by adding them as new rows, provided that the number of columns match.\n",
    "with_new_row = np.vstack((original_row, new_row))    # Stack the new_row vertically to the original_row\n",
    "print(\"Original Row \\n\", original_row)\n",
    "print(\"With New Row \\n\", with_new_row)"
   ]
  },
  {
   "cell_type": "code",
   "execution_count": null,
   "id": "51fb170e",
   "metadata": {},
   "outputs": [
    {
     "name": "stdout",
     "output_type": "stream",
     "text": [
      "[[1 2 5]\n",
      " [3 4 6]]\n"
     ]
    }
   ],
   "source": [
    "original_row = np.array([[1,2], [3,4]])\n",
    "new_col = np.array([[5], [6]])\n",
    "\n",
    "#  np.hstack() is used to horizontally stack (join side by side) multiple arrays. \n",
    "# It concatenates along columns, so the number of rows must be the same in all arrays.\n",
    "with_new_col = np.hstack((original_row, new_col))    # Horizontally stack 'new_col' to the right of 'original_row'\n",
    "print(with_new_col)"
   ]
  },
  {
   "cell_type": "code",
   "execution_count": null,
   "id": "862cbc27",
   "metadata": {},
   "outputs": [
    {
     "name": "stdout",
     "output_type": "stream",
     "text": [
      "Array after Deletion : [1 2 4 5]\n"
     ]
    }
   ],
   "source": [
    "arr = np.array([1,2,3,4,5])\n",
    "deletion = np.delete(arr, 2)     # Delete element at index 2 (3rd element, which is 3)\n",
    "print(\"Array after Deletion :\", deletion)"
   ]
  }
 ],
 "metadata": {
  "kernelspec": {
   "display_name": "env",
   "language": "python",
   "name": "python3"
  },
  "language_info": {
   "codemirror_mode": {
    "name": "ipython",
    "version": 3
   },
   "file_extension": ".py",
   "mimetype": "text/x-python",
   "name": "python",
   "nbconvert_exporter": "python",
   "pygments_lexer": "ipython3",
   "version": "3.10.0"
  }
 },
 "nbformat": 4,
 "nbformat_minor": 5
}
