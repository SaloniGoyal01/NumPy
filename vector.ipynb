{
 "cells": [
  {
   "cell_type": "code",
   "execution_count": 1,
   "id": "28c58cb4",
   "metadata": {},
   "outputs": [
    {
     "name": "stdout",
     "output_type": "stream",
     "text": [
      "Vector Addition : [ 7  9 11 13 15]\n",
      "vector multiplication [ 6 14 24 36 50]\n",
      "vector substraction [-5 -5 -5 -5 -5]\n",
      "vector dot product : 130\n",
      "angle : 0.9649505047327671\n"
     ]
    }
   ],
   "source": [
    "import numpy as np\n",
    "vector1 = np.array([1,2,3,4,5])\n",
    "vector2 = np.array([6,7,8,9,10])\n",
    "print(\"Vector Addition :\", vector1 + vector2)\n",
    "print(\"vector multiplication\", vector1 * vector2)\n",
    "print(\"vector substraction\", vector1 - vector2)\n",
    "print(\"vector dot product :\", np.dot(vector1, vector2))\n",
    "\n",
    "# cosθ= A.B\n",
    "#     ∣∣A∣∣×∣∣B∣∣\n",
    "\n",
    "print(\"angle :\", ((np.dot(vector1, vector2)) / ((np.linalg.norm(vector1)) * (np.linalg.norm(vector2)))))"
   ]
  },
  {
   "cell_type": "code",
   "execution_count": 2,
   "id": "b26096cb",
   "metadata": {},
   "outputs": [
    {
     "name": "stdout",
     "output_type": "stream",
     "text": [
      "['CHINESE' 'ITALIAN' 'FRENCH']\n"
     ]
    }
   ],
   "source": [
    "restaurant_type = np.array([\"chinese\", \"italian\", \"french\"])\n",
    "vectorize_upper = np.vectorize(str.upper)\n",
    "print(vectorize_upper(restaurant_type))"
   ]
  }
 ],
 "metadata": {
  "kernelspec": {
   "display_name": "env",
   "language": "python",
   "name": "python3"
  },
  "language_info": {
   "codemirror_mode": {
    "name": "ipython",
    "version": 3
   },
   "file_extension": ".py",
   "mimetype": "text/x-python",
   "name": "python",
   "nbconvert_exporter": "python",
   "pygments_lexer": "ipython3",
   "version": "3.10.0"
  }
 },
 "nbformat": 4,
 "nbformat_minor": 5
}
